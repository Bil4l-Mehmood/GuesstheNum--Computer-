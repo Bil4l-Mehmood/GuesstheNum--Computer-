{
  "nbformat": 4,
  "nbformat_minor": 0,
  "metadata": {
    "colab": {
      "provenance": []
    },
    "kernelspec": {
      "name": "python3",
      "display_name": "Python 3"
    },
    "language_info": {
      "name": "python"
    }
  },
  "cells": [
    {
      "cell_type": "markdown",
      "source": [
        "# **Projects to be Submitted by Students :**"
      ],
      "metadata": {
        "id": "d3ytsKhg-EHU"
      }
    },
    {
      "cell_type": "markdown",
      "source": [
        "**Project 2: Guss the Number (Computer)**"
      ],
      "metadata": {
        "id": "zqgGIrRe-NBQ"
      }
    },
    {
      "cell_type": "code",
      "source": [
        "import random\n",
        "\n",
        "def guess(x):\n",
        "  random_number = random.randint(1, x)\n",
        "  guess = 0\n",
        "  while guess != random_number:\n",
        "    guess = int(input(f'Guess a number between 1 and {x}: '))\n",
        "    if guess < random_number:\n",
        "      print('Sorry, guess again. Too low.')\n",
        "    elif guess > random_number:\n",
        "      print('Sorry, guess again. Too high.')\n",
        "\n",
        "  print(f'Yay, congrats. You have guessed the number {random_number} correctly!!')\n",
        "\n",
        "\n",
        "guess(10)"
      ],
      "metadata": {
        "colab": {
          "base_uri": "https://localhost:8080/"
        },
        "id": "pZha_lht-wCv",
        "outputId": "71396085-730e-441c-a95f-201143061fbb"
      },
      "execution_count": null,
      "outputs": [
        {
          "output_type": "stream",
          "name": "stdout",
          "text": [
            "Guess a number between 1 and 10: 7\n",
            "Sorry, guess again. Too low.\n",
            "Guess a number between 1 and 10: 9\n",
            "Sorry, guess again. Too high.\n",
            "Guess a number between 1 and 10: 8\n",
            "Yay, congrats. You have guessed the number 8 correctly!!\n"
          ]
        }
      ]
    }
  ]
}